{
 "cells": [
  {
   "cell_type": "markdown",
   "metadata": {
    "id": "TJRE6dDQmVD0"
   },
   "source": [
    "# Applicant Shortlisting using Python and Natural Language Processing.\n",
    "### (Task for Summer Internship at Global Governance Initiative). "
   ]
  },
  {
   "cell_type": "markdown",
   "metadata": {
    "id": "h1Ykrs01nLmx"
   },
   "source": [
    "Step # 1: Installing the PyPDF2 package for reading resumes in the PDF format."
   ]
  },
  {
   "cell_type": "code",
   "execution_count": null,
   "metadata": {
    "id": "Rc_ObpCM1Nde"
   },
   "outputs": [],
   "source": [
    "pip install PyPDF2"
   ]
  },
  {
   "cell_type": "markdown",
   "metadata": {
    "id": "hVx7mN40nYrK"
   },
   "source": [
    "Step # 2: Importing the necessary libraries."
   ]
  },
  {
   "cell_type": "code",
   "execution_count": 5,
   "metadata": {
    "id": "x7dh9Lyt1s-b"
   },
   "outputs": [],
   "source": [
    "import math\n",
    "import PyPDF2\n",
    "import os\n",
    "from os import listdir\n",
    "from os.path import isfile, join\n",
    "from io import StringIO\n",
    "import pandas as pd\n",
    "from collections import Counter\n",
    "import spacy\n",
    "import en_core_web_sm"
   ]
  },
  {
   "cell_type": "markdown",
   "metadata": {
    "id": "22eAH4NXoIC6"
   },
   "source": [
    "Step # 3: Specifying the path where the candidates' resumes are stored in the database. The 'pdfextract' function extracts the resumes and extracts the text, while counting the pages. "
   ]
  },
  {
   "cell_type": "code",
   "execution_count": 6,
   "metadata": {
    "id": "GOWPiBTL2KLD"
   },
   "outputs": [],
   "source": [
    "nlp = spacy.load(\"en_core_web_sm\")\n",
    "from spacy.matcher import PhraseMatcher\n",
    "\n",
    "# Function to read resumes from the folder in a sequence\n",
    "path = '/content/Data/Resumes'\n",
    "can_files = [os.path.join(path, f) for f in os.listdir(path) if os.path.isfile(os.path.join(path, f))]\n",
    "\n",
    "def pdfextract(file):\n",
    "    fileReader = PyPDF2.PdfFileReader(open(file, 'rb'))\n",
    "    countpage = fileReader.getNumPages()\n",
    "    count = 0\n",
    "    text = []\n",
    "    while count < countpage:\n",
    "        pageObj = fileReader.getPage(count)\n",
    "        count += 1\n",
    "        t = pageObj.extractText()\n",
    "        text.append(t)\n",
    "    return text"
   ]
  },
  {
   "cell_type": "markdown",
   "metadata": {
    "id": "800VSIISotnS"
   },
   "source": [
    "Step # 4: The code below performs phrase matching and builds the profile of a candidate by matching the keywords particular to the data science role. In the database, we have a curated a csv file with keywords associated with specialization and skills required by a data scientist. "
   ]
  },
  {
   "cell_type": "code",
   "execution_count": 7,
   "metadata": {
    "id": "K6woMVRODnh1"
   },
   "outputs": [],
   "source": [
    "def create_profile(file, id):\n",
    "    text = pdfextract(file)\n",
    "    text = str(text)\n",
    "    text = text.replace(\"\\\\n\", \"\")\n",
    "    text = text.lower()\n",
    "    # creating a dictionary of keywords from the csv file\n",
    "    keyword_dict = pd.read_csv('/content/Data/keywords.csv', encoding='latin-1')\n",
    "    stats_words = [nlp(text) for text in keyword_dict['statistics'].dropna(axis=0)]\n",
    "    NLP_words = [nlp(text) for text in keyword_dict['nlp'].dropna(axis=0)]\n",
    "    ML_words = [nlp(text) for text in keyword_dict['machine learning'].dropna(axis=0)]\n",
    "    DL_words = [nlp(text) for text in keyword_dict['deep learning'].dropna(axis=0)]\n",
    "    R_words = [nlp(text) for text in keyword_dict['r programming'].dropna(axis=0)]\n",
    "    python_words = [nlp(text) for text in keyword_dict['python'].dropna(axis=0)]\n",
    "    Data_Engineering_words = [nlp(text) for text in keyword_dict['data engineering'].dropna(axis=0)]\n",
    "\n",
    "    matcher = PhraseMatcher(nlp.vocab)\n",
    "    matcher.add('Stats', None, *stats_words)\n",
    "    matcher.add('NLP', None, *NLP_words)\n",
    "    matcher.add('ML', None, *ML_words)\n",
    "    matcher.add('DL', None, *DL_words)\n",
    "    matcher.add('R', None, *R_words)\n",
    "    matcher.add('Python', None, *python_words)\n",
    "    matcher.add('DE', None, *Data_Engineering_words)\n",
    "    doc = nlp(text)\n",
    "\n",
    "    d = []\n",
    "    matches = matcher(doc)\n",
    "    for match_id, start, end in matches:\n",
    "        rule_id = nlp.vocab.strings[match_id]\n",
    "        span = doc[start: end]\n",
    "        d.append((rule_id, span.text))\n",
    "    keywords = \"\\n\".join(f'{i[0]} {i[1]} ({j})' for i, j in Counter(d).items())\n",
    "\n",
    "    df = pd.read_csv(StringIO(keywords), names=['Keywords_List'])\n",
    "    df1 = pd.DataFrame(df.Keywords_List.str.split(' ', 1).tolist(), columns=['Subject', 'Keyword'])\n",
    "    df2 = pd.DataFrame(df1.Keyword.str.split('(', 1).tolist(), columns=['Keyword', 'Count'])\n",
    "    df3 = pd.concat([df1['Subject'], df2['Keyword'], df2['Count']], axis=1)\n",
    "    df3['Count'] = df3['Count'].apply(lambda x: x.rstrip(\")\"))\n",
    "\n",
    "    base = os.path.basename(file)\n",
    "    filename = os.path.splitext(base)[0]\n",
    "\n",
    "    name = filename.split('_')\n",
    "    name2 = name[0]\n",
    "    name2 = name2.lower()\n",
    "    ## converting str to dataframe\n",
    "    name3 = pd.read_csv(StringIO(name2), names=['Candidate Name'])\n",
    "\n",
    "    dataf = pd.concat([name3['Candidate Name'], df3['Subject'], df3['Keyword'], df3['Count']], axis=1)\n",
    "    dataf['Candidate Name'].fillna(dataf['Candidate Name'].iloc[0], inplace=True)\n",
    "    \n",
    "    ## Calculating Scroing of Candidate :\n",
    "\n",
    "    tot_sum = df3['Count'].sum();\n",
    "    score.append((dataf['Candidate Name'][0], tot_sum));\n",
    "\n",
    "    return dataf"
   ]
  },
  {
   "cell_type": "markdown",
   "metadata": {
    "id": "fT7lF86HpjG1"
   },
   "source": [
    "Step # 5: Now, we would map the skill data with the specific candidates and score them on the basis of the matching keywords. These scores would be segregreated on the basis of the specializations. "
   ]
  },
  {
   "cell_type": "code",
   "execution_count": 8,
   "metadata": {
    "id": "bHpgymL5kOIz"
   },
   "outputs": [],
   "source": [
    "data_map = dict();\n",
    "\n",
    "def data_dict():\n",
    "    global data_map;\n",
    "\n",
    "    data_map[\"DE\"] = 4;\n",
    "    data_map[\"DL\"] = 10;\n",
    "    data_map[\"ML\"] = 9;\n",
    "    data_map[\"NLP\"] = 10;\n",
    "    data_map[\"Python\"] = 5;\n",
    "    data_map[\"R\"] = 5;\n",
    "    data_map[\"Stats\"] = 8;\n",
    "\n",
    "\n",
    "def score_calc():\n",
    "    global score, final_database2, data_map;\n",
    "    mm = []\n",
    "    col = [];\n",
    "    for i in final_database2.columns:\n",
    "        col.append(i);\n",
    "\n",
    "    name = \"\";\n",
    "    for i in range(len(final_database2)):\n",
    "        name = final_database2.iloc[i, 0];\n",
    "        subsum = 0;\n",
    "        for j in range(1, len(final_database2.columns)):\n",
    "            num1 = final_database2.iloc[i, j];\n",
    "            num2 = data_map.get(col[j]);\n",
    "            subsum += int(num1) * num2;\n",
    "\n",
    "        mm.append((name, subsum));\n",
    "\n",
    "    score = mm;\n",
    "\n",
    "def Sort_Tuple(tup):\n",
    "    lst = len(tup)\n",
    "    for i in range(0, lst):\n",
    "\n",
    "        for j in range(0, lst - i - 1):\n",
    "            if (tup[j][1] > tup[j + 1][1]):\n",
    "                temp = tup[j]\n",
    "                tup[j] = tup[j + 1]\n",
    "                tup[j + 1] = temp\n",
    "    return tup"
   ]
  },
  {
   "cell_type": "markdown",
   "metadata": {
    "id": "IGv1bCpZrvPo"
   },
   "source": [
    "Step # 6: PrettyTable's main goal is to let you print tables in an attractive ASCII form. We shall use it to display scores and shortlisted candidate in the main function. "
   ]
  },
  {
   "cell_type": "code",
   "execution_count": 9,
   "metadata": {
    "id": "UI23Tuql7J74"
   },
   "outputs": [],
   "source": [
    "from prettytable import PrettyTable\n",
    "def Sel_printer(show):\n",
    "    global score, selected;\n",
    "    num_sel = math.ceil(len(score) / show);\n",
    "    selected = [];\n",
    "\n",
    "    Sort_Tuple(score);\n",
    "\n",
    "    j = len(score) - 1;\n",
    "    while (j > 0 and num_sel > 0):\n",
    "        selected.append((score[j][0], score[j][1]));\n",
    "        num_sel -= 1;\n",
    "        j -= 1;\n",
    "\n",
    "    t = PrettyTable(['Name', 'Score'])\n",
    "    for i in range(len(selected)):\n",
    "        t.add_row([selected[i][0], selected[i][1]])\n",
    "\n",
    "    print(t)"
   ]
  },
  {
   "cell_type": "markdown",
   "metadata": {
    "id": "VE6dEKhYr76I"
   },
   "source": [
    "Step # 7: Following is the code to count words under each category and visulaize it through matplotlib. The plot we have created shows a candidates score in terms of the specialization. Such a plot would be useful in determining whether a candidate has core focus on a specialization or has a mix-bag of skills. "
   ]
  },
  {
   "cell_type": "code",
   "execution_count": 20,
   "metadata": {
    "id": "Z6IYaKMxEmEz"
   },
   "outputs": [],
   "source": [
    "def data_plot():\n",
    "    global final_database2;\n",
    "    final_database2 = final_database['Keyword'].groupby(\n",
    "        [final_database['Candidate Name'], final_database['Subject']]).count().unstack()\n",
    "    final_database2.reset_index(inplace=True)\n",
    "    final_database2.fillna(0, inplace=True)\n",
    "    new_data = final_database2.iloc[:, 1:]\n",
    "    new_data.index = final_database2['Candidate Name']\n",
    "    import matplotlib.pyplot as plt\n",
    "\n",
    "    plt.rcParams.update({'font.size': 10})\n",
    "    ax = new_data.plot.barh(title=\"Candidate skill division\", legend=False, figsize=(20, 7), stacked=True)\n",
    "    labels = []\n",
    "    for j in new_data.columns:\n",
    "        for i in new_data.index:\n",
    "            label = str(j) + \": \" + str(new_data.loc[i][j])\n",
    "            labels.append(label)\n",
    "    patches = ax.patches\n",
    "    for label, rect in zip(labels, patches):\n",
    "        width = rect.get_width()\n",
    "        if width > 0:\n",
    "            x = rect.get_x()\n",
    "            y = rect.get_y()\n",
    "            height = rect.get_height()\n",
    "            ax.text(x + width / 2., y + height / 2., label, ha='center', va='center')\n",
    "    plt.show()"
   ]
  },
  {
   "cell_type": "markdown",
   "metadata": {
    "id": "Kg15EnCPsmIU"
   },
   "source": [
    "Step # 8: In this final step, we convert the candidate database to a more user-friendly dataframe format. In the main function, the resumes of candidates are read in a sequence and the candidate profile function in invoked which builds the candidate profile and the score information is then appended into the final database. "
   ]
  },
  {
   "cell_type": "code",
   "execution_count": 28,
   "metadata": {
    "colab": {
     "base_uri": "https://localhost:8080/",
     "height": 773
    },
    "id": "oNiQbiELFVbN",
    "outputId": "aa5f0845-3ed0-413f-840c-3a01e980c69c"
   },
   "outputs": [
    {
     "data": {
      "image/png": "[encoded data removed]",
      "text/plain": [
       "<Figure size 1440x504 with 1 Axes>"
      ]
     },
     "metadata": {
      "needs_background": "light",
      "tags": []
     },
     "output_type": "display_data"
    },
    {
     "name": "stdout",
     "output_type": "stream",
     "text": [
      "\n",
      " Subject Candidate Name   DE   DL   ML  NLP  Python  Total Score\n",
      "0          candidate 1  0.0  0.0  1.0  1.0     3.0          5.0\n",
      "1          candidate 2  0.0  0.0  0.0  1.0     1.0          2.0\n",
      "2          candidate 3  4.0  1.0  0.0  1.0     1.0          7.0\n",
      "\n",
      "Top two shortlisted candidates: \n",
      "+-------------+-------+\n",
      "|     Name    | Score |\n",
      "+-------------+-------+\n",
      "| candidate 3 |   41  |\n",
      "| candidate 1 |   34  |\n",
      "+-------------+-------+\n",
      "\n",
      "Selected Candidate:\n",
      "+-------------+-------+\n",
      "|     Name    | Score |\n",
      "+-------------+-------+\n",
      "| candidate 3 |   41  |\n",
      "+-------------+-------+\n"
     ]
    }
   ],
   "source": [
    "final_database = pd.DataFrame()\n",
    "final_database2 = pd.DataFrame()\n",
    "score = []\n",
    "selected = []\n",
    "\n",
    "def main():\n",
    "    global final_database, final_database2, data_map;\n",
    "\n",
    "    i = 0;\n",
    "    while i < len(can_files):\n",
    "        file = can_files[i]\n",
    "        dat = create_profile(file, i)\n",
    "        final_database = final_database.append(dat)\n",
    "        i += 1\n",
    "        \n",
    "    \n",
    "    data_dict()\n",
    "    data_plot()\n",
    "    score_calc()\n",
    "    final_database2.loc[:,'Total Score'] = final_database2.sum(numeric_only=True, axis=1)\n",
    "    print(\"\\n\",final_database2)\n",
    "    print(\"\\nTop two shortlisted candidates: \")\n",
    "    Sel_printer(1)\n",
    "    print(\"\\nSelected Candidate:\")\n",
    "    Sel_printer(10)\n",
    "\n",
    "if __name__ == '__main__':\n",
    "    main()"
   ]
  }
 ],
 "metadata": {
  "colab": {
   "collapsed_sections": [],
   "name": "Applicant Shortlisting using Python and Natural Language Processing.ipynb",
   "provenance": []
  },
  "kernelspec": {
   "display_name": "Python 3",
   "language": "python",
   "name": "python3"
  },
  "language_info": {
   "codemirror_mode": {
    "name": "ipython",
    "version": 3
   },
   "file_extension": ".py",
   "mimetype": "text/x-python",
   "name": "python",
   "nbconvert_exporter": "python",
   "pygments_lexer": "ipython3",
   "version": "3.7.3"
  }
 },
 "nbformat": 4,
 "nbformat_minor": 1
}
